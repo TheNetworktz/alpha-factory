{
 "cells": [
  {
   "cell_type": "code",
   "execution_count": 31,
   "id": "10695343",
   "metadata": {},
   "outputs": [
    {
     "name": "stdout",
     "output_type": "stream",
     "text": [
      "--- Step 1: Loading Raw Data ---\n",
      "Daily DF head:\n",
      "                                 open        high         low       close  \\\n",
      "Datetime                                                                    \n",
      "2023-10-23 00:00:00+00:00  409.038626  413.756717  407.274229  409.867218   \n",
      "2023-10-24 00:00:00+00:00  412.002015  414.117359  410.140131  412.957336   \n",
      "2023-10-25 00:00:00+00:00  411.261174  411.290417  406.513841  407.030487   \n",
      "2023-10-26 00:00:00+00:00  405.958264  406.816069  401.230446  402.156494   \n",
      "2023-10-27 00:00:00+00:00  403.755169  404.154843  398.900621  400.333588   \n",
      "\n",
      "                              volume  \n",
      "Datetime                              \n",
      "2023-10-23 00:00:00+00:00   92035100  \n",
      "2023-10-24 00:00:00+00:00   78564200  \n",
      "2023-10-25 00:00:00+00:00   94223200  \n",
      "2023-10-26 00:00:00+00:00  115156800  \n",
      "2023-10-27 00:00:00+00:00  107367700  \n",
      "\n",
      "Daily DF Info:\n",
      "<class 'pandas.core.frame.DataFrame'>\n",
      "DatetimeIndex: 501 entries, 2023-10-23 00:00:00+00:00 to 2025-10-21 00:00:00+00:00\n",
      "Data columns (total 5 columns):\n",
      " #   Column  Non-Null Count  Dtype  \n",
      "---  ------  --------------  -----  \n",
      " 0   open    501 non-null    float64\n",
      " 1   high    501 non-null    float64\n",
      " 2   low     501 non-null    float64\n",
      " 3   close   501 non-null    float64\n",
      " 4   volume  501 non-null    int64  \n",
      "dtypes: float64(4), int64(1)\n",
      "memory usage: 23.5 KB\n"
     ]
    }
   ],
   "source": [
    "# --- AGGRESSIVE DEBUGGING FOR PDH/PDL ---\n",
    "\n",
    "print(\"--- Step 1: Loading Raw Data ---\")\n",
    "daily_data_path = Path(\"../data/raw/SPY_1d.csv\")\n",
    "df_daily_debug = pd.read_csv(daily_data_path, header=[0, 1], index_col=0)\n",
    "df_daily_debug.columns = df_daily_debug.columns.get_level_values(1)\n",
    "df_daily_debug.columns = [col.lower() for col in df_daily_debug.columns]\n",
    "df_daily_debug.index = pd.to_datetime(df_daily_debug.index, utc=True)\n",
    "df_daily_debug.index.name = 'Datetime'\n",
    "\n",
    "df_15m_debug = pd.read_csv(\n",
    "    \"../data/processed/master_m15_features.csv\", \n",
    "    index_col='Datetime', \n",
    "    parse_dates=True\n",
    ")\n",
    "\n",
    "print(\"Daily DF head:\")\n",
    "print(df_daily_debug.head())\n",
    "print(\"\\nDaily DF Info:\")\n",
    "df_daily_debug.info()\n"
   ]
  },
  {
   "cell_type": "code",
   "execution_count": 32,
   "id": "113c5c7f",
   "metadata": {},
   "outputs": [
    {
     "name": "stdout",
     "output_type": "stream",
     "text": [
      "\n",
      "--- Step 2: Creating the Lookup Maps ---\n",
      "\n",
      "PDH Map head:\n",
      "2023-10-23           NaN\n",
      "2023-10-24    413.756717\n",
      "2023-10-25    414.117359\n",
      "2023-10-26    411.290417\n",
      "2023-10-27    406.816069\n",
      "dtype: float64\n",
      "\n",
      "Value for 2025-10-15 in PDH map: 665.8300170898438\n"
     ]
    }
   ],
   "source": [
    "print(\"\\n--- Step 2: Creating the Lookup Maps ---\")\n",
    "df_daily_debug['PDH'] = df_daily_debug['high'].shift(1)\n",
    "df_daily_debug['PDL'] = df_daily_debug['low'].shift(1)\n",
    "\n",
    "pdh_map_debug = pd.Series(df_daily_debug['PDH'].values, index=df_daily_debug.index.date)\n",
    "pdl_map_debug = pd.Series(df_daily_debug['PDL'].values, index=df_daily_debug.index.date)\n",
    "\n",
    "print(\"\\nPDH Map head:\")\n",
    "print(pdh_map_debug.head())\n",
    "\n",
    "known_date = pd.to_datetime(\"2025-10-15\").date()\n",
    "if known_date in pdh_map_debug.index:\n",
    "    print(f\"\\nValue for {known_date} in PDH map: {pdh_map_debug[known_date]}\")\n",
    "else:\n",
    "    print(f\"\\nERROR: Date {known_date} not found in PDH map index!\")\n"
   ]
  },
  {
   "cell_type": "code",
   "execution_count": 33,
   "id": "30ce85d4",
   "metadata": {},
   "outputs": [
    {
     "name": "stdout",
     "output_type": "stream",
     "text": [
      "\n",
      "--- Step 3: Applying the Map ---\n",
      "\n",
      "Slice of the final dataframe for 2025-10-15:\n",
      "                             test_pdh    test_pdl\n",
      "Datetime                                         \n",
      "2025-10-15 13:30:00+00:00  665.830017  653.169983\n",
      "2025-10-15 13:45:00+00:00  665.830017  653.169983\n",
      "2025-10-15 14:00:00+00:00  665.830017  653.169983\n",
      "2025-10-15 14:15:00+00:00  665.830017  653.169983\n",
      "2025-10-15 14:30:00+00:00  665.830017  653.169983\n",
      "\n",
      "Number of null values in test_pdh: 0\n",
      "Total rows in slice: 26\n"
     ]
    }
   ],
   "source": [
    "print(\"\\n--- Step 3: Applying the Map ---\")\n",
    "df_final_debug = df_15m_debug.copy()\n",
    "df_final_debug['date_key'] = df_final_debug.index.date\n",
    "\n",
    "df_final_debug['test_pdh'] = df_final_debug['date_key'].map(pdh_map_debug)\n",
    "df_final_debug['test_pdl'] = df_final_debug['date_key'].map(pdl_map_debug)\n",
    "\n",
    "validation_slice_debug = df_final_debug[df_final_debug.index.date == pd.to_datetime(\"2025-10-15\").date()]\n",
    "\n",
    "print(\"\\nSlice of the final dataframe for 2025-10-15:\")\n",
    "print(validation_slice_debug[['test_pdh', 'test_pdl']].head())\n",
    "\n",
    "print(\"\\nNumber of null values in test_pdh:\", validation_slice_debug['test_pdh'].isnull().sum())\n",
    "print(\"Total rows in slice:\", len(validation_slice_debug))\n"
   ]
  }
 ],
 "metadata": {
  "kernelspec": {
   "display_name": "venv",
   "language": "python",
   "name": "python3"
  },
  "language_info": {
   "codemirror_mode": {
    "name": "ipython",
    "version": 3
   },
   "file_extension": ".py",
   "mimetype": "text/x-python",
   "name": "python",
   "nbconvert_exporter": "python",
   "pygments_lexer": "ipython3",
   "version": "3.13.7"
  }
 },
 "nbformat": 4,
 "nbformat_minor": 5
}
