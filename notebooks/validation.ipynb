{
 "cells": [
  {
   "cell_type": "code",
   "execution_count": null,
   "id": "10695343",
   "metadata": {},
   "outputs": [],
   "source": [
    "# validation.ipynb\n",
    "\n",
    "# --- Step 1: Import Libraries and Load Data ---\n",
    "import pandas as pd\n",
    "import matplotlib.pyplot as plt\n",
    "import matplotlib.dates as mdates\n",
    "from pathlib import Path\n",
    "\n",
    "print(\"--- Quality Control Lab ---\")\n",
    "\n",
    "# Load the master feature dataset\n",
    "file_path = Path(\"../data/processed/master_m15_features.csv\")\n",
    "if not file_path.exists():\n",
    "    print(f\"ERROR: Dataset not found at {file_path}. Please run the Snakemake pipeline first.\")\n",
    "else:\n",
    "    print(f\"Loading dataset from: {file_path}\")\n",
    "    df = pd.read_csv(file_path, index_col='Datetime', parse_dates=True)\n",
    "    print(\"Dataset loaded successfully. Shape:\", df.shape)\n",
    "    print(\"Columns:\", df.columns.tolist())\n",
    "\n",
    "# Set plot style for better readability\n",
    "plt.style.use('seaborn-v0_8-darkgrid')\n"
   ]
  }
 ],
 "metadata": {
  "kernelspec": {
   "display_name": "venv",
   "language": "python",
   "name": "python3"
  },
  "language_info": {
   "name": "python",
   "version": "3.13.7"
  }
 },
 "nbformat": 4,
 "nbformat_minor": 5
}
